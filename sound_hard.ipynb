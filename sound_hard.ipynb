{
 "cells": [
  {
   "cell_type": "code",
   "execution_count": 1,
   "id": "f60d82ae",
   "metadata": {},
   "outputs": [],
   "source": [
    "import matplotlib.pyplot as plt\n",
    "import pandas as pd\n",
    "import numpy as np"
   ]
  },
  {
   "cell_type": "code",
   "execution_count": 3,
   "id": "42ce852b",
   "metadata": {},
   "outputs": [],
   "source": [
    "df = pd.read_csv('assets/data.csv')"
   ]
  },
  {
   "cell_type": "code",
   "execution_count": 4,
   "id": "8ee3ebc8",
   "metadata": {},
   "outputs": [
    {
     "data": {
      "text/html": [
       "<div>\n",
       "<style scoped>\n",
       "    .dataframe tbody tr th:only-of-type {\n",
       "        vertical-align: middle;\n",
       "    }\n",
       "\n",
       "    .dataframe tbody tr th {\n",
       "        vertical-align: top;\n",
       "    }\n",
       "\n",
       "    .dataframe thead th {\n",
       "        text-align: right;\n",
       "    }\n",
       "</style>\n",
       "<table border=\"1\" class=\"dataframe\">\n",
       "  <thead>\n",
       "    <tr style=\"text-align: right;\">\n",
       "      <th></th>\n",
       "      <th>p</th>\n",
       "      <th>n_patch</th>\n",
       "      <th>n_points</th>\n",
       "      <th>t_f</th>\n",
       "      <th>t_s</th>\n",
       "      <th>t_q</th>\n",
       "      <th>m_f</th>\n",
       "      <th>e</th>\n",
       "    </tr>\n",
       "  </thead>\n",
       "  <tbody>\n",
       "    <tr>\n",
       "      <th>0</th>\n",
       "      <td>4.0</td>\n",
       "      <td>50</td>\n",
       "      <td>750</td>\n",
       "      <td>0.8</td>\n",
       "      <td>0.03</td>\n",
       "      <td>0.8</td>\n",
       "      <td>0.04</td>\n",
       "      <td>0.004700</td>\n",
       "    </tr>\n",
       "    <tr>\n",
       "      <th>1</th>\n",
       "      <td>NaN</td>\n",
       "      <td>200</td>\n",
       "      <td>3000</td>\n",
       "      <td>6.6</td>\n",
       "      <td>0.08</td>\n",
       "      <td>1.4</td>\n",
       "      <td>0.60</td>\n",
       "      <td>0.000330</td>\n",
       "    </tr>\n",
       "    <tr>\n",
       "      <th>2</th>\n",
       "      <td>NaN</td>\n",
       "      <td>450</td>\n",
       "      <td>6750</td>\n",
       "      <td>84.9</td>\n",
       "      <td>0.20</td>\n",
       "      <td>2.5</td>\n",
       "      <td>2.90</td>\n",
       "      <td>0.000052</td>\n",
       "    </tr>\n",
       "    <tr>\n",
       "      <th>3</th>\n",
       "      <td>NaN</td>\n",
       "      <td>800</td>\n",
       "      <td>12000</td>\n",
       "      <td>324.3</td>\n",
       "      <td>0.60</td>\n",
       "      <td>4.2</td>\n",
       "      <td>7.50</td>\n",
       "      <td>0.000016</td>\n",
       "    </tr>\n",
       "    <tr>\n",
       "      <th>4</th>\n",
       "      <td>NaN</td>\n",
       "      <td>1250</td>\n",
       "      <td>18750</td>\n",
       "      <td>1138.3</td>\n",
       "      <td>1.10</td>\n",
       "      <td>6.2</td>\n",
       "      <td>15.20</td>\n",
       "      <td>0.000006</td>\n",
       "    </tr>\n",
       "  </tbody>\n",
       "</table>\n",
       "</div>"
      ],
      "text/plain": [
       "     p  n_patch  n_points     t_f   t_s  t_q    m_f         e\n",
       "0  4.0       50       750     0.8  0.03  0.8   0.04  0.004700\n",
       "1  NaN      200      3000     6.6  0.08  1.4   0.60  0.000330\n",
       "2  NaN      450      6750    84.9  0.20  2.5   2.90  0.000052\n",
       "3  NaN      800     12000   324.3  0.60  4.2   7.50  0.000016\n",
       "4  NaN     1250     18750  1138.3  1.10  6.2  15.20  0.000006"
      ]
     },
     "execution_count": 4,
     "metadata": {},
     "output_type": "execute_result"
    }
   ],
   "source": [
    "df.head()"
   ]
  },
  {
   "cell_type": "code",
   "execution_count": 41,
   "id": "b3744960",
   "metadata": {},
   "outputs": [
    {
     "data": {
      "image/png": "[encoded data removed]",
      "text/plain": [
       "<Figure size 720x576 with 1 Axes>"
      ]
     },
     "metadata": {
      "needs_background": "light"
     },
     "output_type": "display_data"
    }
   ],
   "source": [
    "fig, ax = plt.subplots()\n",
    "fig.set_size_inches(10, 8)\n",
    "\n",
    "ax.plot(df['n_points'], df['t_f'], '-o', label='Factorization')\n",
    "ax.plot(df['n_points'], df['t_s'], '-x', label='Solve')\n",
    "ax.plot(df['n_points'], df['t_q'], '-x', label='Quadrature Generation')\n",
    "\n",
    "ax.set_ylabel('Time (s)')\n",
    "ax.set_xlabel('N')\n",
    "ax.set_xscale('log')\n",
    "ax.set_yscale('log')\n",
    "plt.legend()\n",
    "\n",
    "plt.savefig('assets/scaling.pdf', format='pdf')\n",
    "plt.show()"
   ]
  },
  {
   "cell_type": "code",
   "execution_count": 43,
   "id": "7c4ae1ba",
   "metadata": {},
   "outputs": [
    {
     "data": {
      "text/plain": [
       "array([  2.2564013, -15.4978488])"
      ]
     },
     "execution_count": 43,
     "metadata": {},
     "output_type": "execute_result"
    }
   ],
   "source": [
    "np.polyfit(np.log(df['n_points']), np.log(df['t_f']), deg=1)\n"
   ]
  },
  {
   "cell_type": "code",
   "execution_count": 46,
   "id": "b134bfc0",
   "metadata": {},
   "outputs": [
    {
     "data": {
      "text/plain": [
       "array([  1.18716952, -11.70097289])"
      ]
     },
     "execution_count": 46,
     "metadata": {},
     "output_type": "execute_result"
    }
   ],
   "source": [
    "np.polyfit(np.log(df['n_points']), np.log(df['t_s']), deg=1)"
   ]
  },
  {
   "cell_type": "code",
   "execution_count": 50,
   "id": "72ab26c1",
   "metadata": {},
   "outputs": [],
   "source": [
    "n = np.array([980, 2000, 8000, 32000, 72000, 128000])\n",
    "tf = np.array([0.6, 3.2, 52.5, 273.4, 540.6, 861.2])"
   ]
  },
  {
   "cell_type": "code",
   "execution_count": 51,
   "id": "b2df57ca",
   "metadata": {},
   "outputs": [
    {
     "data": {
      "text/plain": [
       "array([  1.47822988, -10.11309107])"
      ]
     },
     "execution_count": 51,
     "metadata": {},
     "output_type": "execute_result"
    }
   ],
   "source": [
    "np.polyfit(np.log(n), np.log(tf), deg=1)"
   ]
  },
  {
   "cell_type": "code",
   "execution_count": null,
   "id": "fa830a95",
   "metadata": {},
   "outputs": [],
   "source": []
  }
 ],
 "metadata": {
  "kernelspec": {
   "display_name": "Python 3 (ipykernel)",
   "language": "python",
   "name": "python3"
  },
  "language_info": {
   "codemirror_mode": {
    "name": "ipython",
    "version": 3
   },
   "file_extension": ".py",
   "mimetype": "text/x-python",
   "name": "python",
   "nbconvert_exporter": "python",
   "pygments_lexer": "ipython3",
   "version": "3.9.7"
  }
 },
 "nbformat": 4,
 "nbformat_minor": 5
}
